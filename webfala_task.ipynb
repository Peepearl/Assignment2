{
 "cells": [
  {
   "cell_type": "code",
   "execution_count": 1,
   "id": "dec805d8",
   "metadata": {},
   "outputs": [
    {
     "data": {
      "text/plain": [
       "'a'"
      ]
     },
     "execution_count": 1,
     "metadata": {},
     "output_type": "execute_result"
    }
   ],
   "source": [
    "#create 4 variable\n",
    "name=\"Mamman Patience\"\n",
    "name[1]"
   ]
  },
  {
   "cell_type": "code",
   "execution_count": 2,
   "id": "799d3b4e",
   "metadata": {},
   "outputs": [
    {
     "name": "stdout",
     "output_type": "stream",
     "text": [
      "20\n"
     ]
    }
   ],
   "source": [
    "Age=20\n",
    "print(Age)"
   ]
  },
  {
   "cell_type": "code",
   "execution_count": 3,
   "id": "b33ea387",
   "metadata": {},
   "outputs": [
    {
     "name": "stdout",
     "output_type": "stream",
     "text": [
      "37.5\n"
     ]
    }
   ],
   "source": [
    "Height=37.5\n",
    "print(Height)"
   ]
  },
  {
   "cell_type": "code",
   "execution_count": 5,
   "id": "0e099354",
   "metadata": {},
   "outputs": [
    {
     "data": {
      "text/plain": [
       "False"
      ]
     },
     "execution_count": 5,
     "metadata": {},
     "output_type": "execute_result"
    }
   ],
   "source": [
    "my_name=False\n",
    "my_name\n"
   ]
  },
  {
   "cell_type": "code",
   "execution_count": 6,
   "id": "3f18907b",
   "metadata": {},
   "outputs": [
    {
     "data": {
      "text/plain": [
       "0"
      ]
     },
     "execution_count": 6,
     "metadata": {},
     "output_type": "execute_result"
    }
   ],
   "source": [
    "int(my_name)"
   ]
  },
  {
   "cell_type": "code",
   "execution_count": 7,
   "id": "ed5bc056",
   "metadata": {},
   "outputs": [],
   "source": [
    "#create an empty list\n",
    "sweet=[]"
   ]
  },
  {
   "cell_type": "code",
   "execution_count": 8,
   "id": "680f6320",
   "metadata": {},
   "outputs": [
    {
     "name": "stdout",
     "output_type": "stream",
     "text": [
      "['Mamman Patience']\n"
     ]
    }
   ],
   "source": [
    "sweet.append(name)\n",
    "print(sweet)"
   ]
  },
  {
   "cell_type": "code",
   "execution_count": 10,
   "id": "c8b84ca5",
   "metadata": {},
   "outputs": [
    {
     "name": "stdout",
     "output_type": "stream",
     "text": [
      "57.5\n"
     ]
    }
   ],
   "source": [
    "house= Age + Height #add the int and float together and change it \n",
    "print(house)"
   ]
  },
  {
   "cell_type": "code",
   "execution_count": 11,
   "id": "3525c678",
   "metadata": {},
   "outputs": [
    {
     "name": "stdout",
     "output_type": "stream",
     "text": [
      "['Mamman Patience', 57.5]\n"
     ]
    }
   ],
   "source": [
    "sweet.append(house)\n",
    "print(sweet)"
   ]
  },
  {
   "cell_type": "code",
   "execution_count": 12,
   "id": "c8f68e66",
   "metadata": {},
   "outputs": [
    {
     "name": "stdout",
     "output_type": "stream",
     "text": [
      "['Mamman Patience', 57.5, False]\n"
     ]
    }
   ],
   "source": [
    "#apend bool to list\n",
    "sweet.append(my_name)\n",
    "print(sweet)"
   ]
  },
  {
   "cell_type": "code",
   "execution_count": 13,
   "id": "3f0cc50d",
   "metadata": {},
   "outputs": [
    {
     "data": {
      "text/plain": [
       "3"
      ]
     },
     "execution_count": 13,
     "metadata": {},
     "output_type": "execute_result"
    }
   ],
   "source": [
    "len(sweet)"
   ]
  },
  {
   "cell_type": "code",
   "execution_count": 14,
   "id": "1ad9f4f6",
   "metadata": {},
   "outputs": [],
   "source": [
    "#change sokoto to lagos\n",
    "west=[\"osun\",\"ogun\",\"Ekiti\",\"ondo\",\"sokoto\"]\n",
    "north=[\"kano\",\"yola\",\"jalingo\",\"maiduguri\"]\n",
    "east=[\"enugu\", \"abia\",\"delta\",\"rivers\"]"
   ]
  },
  {
   "cell_type": "code",
   "execution_count": 15,
   "id": "70c28f70",
   "metadata": {},
   "outputs": [
    {
     "data": {
      "text/plain": [
       "['osun', 'ogun', 'Ekiti', 'ondo', 'lagos']"
      ]
     },
     "execution_count": 15,
     "metadata": {},
     "output_type": "execute_result"
    }
   ],
   "source": [
    "west[4]=\"lagos\"\n",
    "west"
   ]
  },
  {
   "cell_type": "code",
   "execution_count": 16,
   "id": "9f59896a",
   "metadata": {},
   "outputs": [],
   "source": [
    "#convert this to tuple\n",
    "west=[\"osun\",\"ogun\",\"Ekiti\",\"ondo\",\"sokoto\"]\n",
    "north=[\"kano\",\"yola\",\"jalingo\",\"maiduguri\"]\n",
    "east=[\"enugu\", \"abia\",\"delta\",\"rivers\"]\n"
   ]
  },
  {
   "cell_type": "code",
   "execution_count": 17,
   "id": "ef8b0f60",
   "metadata": {},
   "outputs": [
    {
     "data": {
      "text/plain": [
       "('osun', 'ogun', 'Ekiti', 'ondo', 'sokoto')"
      ]
     },
     "execution_count": 17,
     "metadata": {},
     "output_type": "execute_result"
    }
   ],
   "source": [
    "tuple(west)"
   ]
  },
  {
   "cell_type": "code",
   "execution_count": 18,
   "id": "4c8c88fa",
   "metadata": {},
   "outputs": [
    {
     "data": {
      "text/plain": [
       "('kano', 'yola', 'jalingo', 'maiduguri')"
      ]
     },
     "execution_count": 18,
     "metadata": {},
     "output_type": "execute_result"
    }
   ],
   "source": [
    "tuple(north)"
   ]
  },
  {
   "cell_type": "code",
   "execution_count": 19,
   "id": "5b81631d",
   "metadata": {},
   "outputs": [
    {
     "data": {
      "text/plain": [
       "('enugu', 'abia', 'delta', 'rivers')"
      ]
     },
     "execution_count": 19,
     "metadata": {},
     "output_type": "execute_result"
    }
   ],
   "source": [
    "tuple(east)"
   ]
  },
  {
   "cell_type": "code",
   "execution_count": 20,
   "id": "1b54a6cc",
   "metadata": {},
   "outputs": [],
   "source": [
    "\n",
    "Nigeria={}"
   ]
  },
  {
   "cell_type": "code",
   "execution_count": 22,
   "id": "dd846b94",
   "metadata": {},
   "outputs": [],
   "source": [
    "#ASSIGNMENT:put the about list in a dictionary"
   ]
  },
  {
   "cell_type": "code",
   "execution_count": 21,
   "id": "c8ff62c9",
   "metadata": {},
   "outputs": [
    {
     "name": "stdout",
     "output_type": "stream",
     "text": [
      "{'west': ['osun', 'ogun', 'Ekiti', 'ondo', 'sokoto'], 'east': ['enugu', 'abia', 'delta', 'rivers'], 'north': ['kano', 'yola', 'jalingo', 'maiduguri']}\n"
     ]
    }
   ],
   "source": [
    "Nigeria[\"west\"]= west\n",
    "Nigeria[\"east\"]= east\n",
    "Nigeria[\"north\"]= north\n",
    "print(Nigeria)"
   ]
  },
  {
   "cell_type": "code",
   "execution_count": null,
   "id": "0a1d0947",
   "metadata": {},
   "outputs": [],
   "source": []
  }
 ],
 "metadata": {
  "kernelspec": {
   "display_name": "Python 3 (ipykernel)",
   "language": "python",
   "name": "python3"
  },
  "language_info": {
   "codemirror_mode": {
    "name": "ipython",
    "version": 3
   },
   "file_extension": ".py",
   "mimetype": "text/x-python",
   "name": "python",
   "nbconvert_exporter": "python",
   "pygments_lexer": "ipython3",
   "version": "3.11.4"
  }
 },
 "nbformat": 4,
 "nbformat_minor": 5
}
